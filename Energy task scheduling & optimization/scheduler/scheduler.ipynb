{
 "cells": [
  {
   "cell_type": "markdown",
   "metadata": {},
   "source": [
    "### Import all dependencies"
   ]
  },
  {
   "cell_type": "code",
   "execution_count": 1,
   "metadata": {},
   "outputs": [],
   "source": [
    "import pandas as pd\n",
    "import numpy as np\n",
    "import cvxpy\n",
    "import datetime as dt\n",
    "pd.options.mode.chained_assignment = None  # default='warn'"
   ]
  },
  {
   "cell_type": "markdown",
   "metadata": {},
   "source": [
    "### Define the scheduling function"
   ]
  },
  {
   "cell_type": "code",
   "execution_count": 2,
   "metadata": {},
   "outputs": [],
   "source": [
    "def find_schedule(): # find_schedule(UserSched, PVsProdDetails)\n",
    "\n",
    "    # Reading User Schedule\n",
    "    user_schedule = pd.read_csv(\"user_schedule.csv\")  # user_schedule\n",
    "    #print(user_schedule.head(3))\n",
    "\n",
    "    # Reading PhotoVoltaic Production\n",
    "    pv_production = pd.read_csv(\"forecast.csv\")\n",
    "    # Removing the first column since it is not needed\n",
    "    pv_production.drop(columns=pv_production.columns[0], axis=1, inplace=True)\n",
    "    #print(pv_production.head(3))\n",
    "\n",
    "\n",
    "    number_of_appliances = user_schedule.shape[0] # Storing number of activities that need to be allocated into time slots\n",
    "    \n",
    "\n",
    "    # Storing all the UserSchedule columns into different variables\n",
    "    appliances_names = user_schedule.iloc[:,1]\n",
    "    earlier_time = user_schedule.iloc[:,2]\n",
    "    latest_time = user_schedule.iloc[:,3]\n",
    "    task_duration = user_schedule.iloc[:,4]\n",
    "    user_consumption = user_schedule.iloc[:,5]\n",
    "    #appliance_importance = user_schedule.iloc[:,6]\n",
    "\n",
    "    # Storing all the PVProd useful columns into different variables\n",
    "    pv_production_date = pv_production.iloc[:,1]\n",
    "    pv_production_hour = pv_production.iloc[:,5]\n",
    "    pv_production_value = pv_production.iloc[:,6]\n",
    "    pv_production_value = pv_production_value.values\n",
    "    pv_production_value = np.expand_dims(pv_production_value,axis=0)\n",
    "\n",
    "    number_of_discrete_moments = pv_production_value.size # Storing all the discrete production moments of the PVs\n",
    "\n",
    "    # if the duration that the user wants is(ex. 1.5) then we have to convert it to an integer(2).\n",
    "    for i in range(len(task_duration)):\n",
    "        task_duration[i] = np.ceil(task_duration[i])\n",
    "        \n",
    "    #-------------------------------------------------------\n",
    "    # ----------- SOLUTION -----------------------\n",
    "    #-------------------------------------------------------\n",
    "\n",
    "    # create a matrix that indicates the times that an appliance is allowed to operate\n",
    "    allowed_operational_hours= np.zeros((number_of_appliances,number_of_discrete_moments),dtype=int)\n",
    "\n",
    "    # supporting variable for the consumption constraints\n",
    "    supporting_consumption_values= user_consumption.values.astype(float)\n",
    "\n",
    "    # supporting variable for importance constraints\n",
    "\n",
    "    #supporting_importance_values = appliance_importance.values.astype(float)\n",
    "\n",
    "    # fix the dimensions\n",
    "    supporting_consumption_values=np.expand_dims(supporting_consumption_values, axis=0)\n",
    "    #supporting_importance_values=np.expand_dims(supporting_importance_values,axis=1)\n",
    "    \n",
    "\n",
    "    # we are now going to fill the discrete moments(hours) that the tasks are allowed to be in\n",
    "    for appliance_x in range(0,number_of_appliances):\n",
    "        for moment_x in range(0,number_of_discrete_moments):\n",
    "            \n",
    "            tmp_condition_after_earliest_time=\\\n",
    "            pv_production_hour.values[moment_x] >= \\\n",
    "            earlier_time[appliance_x]       \n",
    "            \n",
    "            tmp_condition_before_latest_time=\\\n",
    "            pv_production_hour.values[moment_x] <= \\\n",
    "            latest_time[appliance_x] + task_duration[appliance_x] # we want it to end when latest_start_time + duration\n",
    "            \n",
    "            if tmp_condition_after_earliest_time & tmp_condition_before_latest_time:\n",
    "                allowed_operational_hours[appliance_x][moment_x]=1\n",
    "                \n",
    "    # we are now going to create the table that contains the timeframes in which the appliances will be optimally placed\n",
    "    task_table =  cvxpy.Variable(allowed_operational_hours.shape, boolean=True)\n",
    "    \n",
    "    # it is time to start setting up the constraints of the problem\n",
    "    # Firstly, we have to ensure that the devices operate during the hours that the user wants\n",
    "\n",
    "    user_time_limit_constraint=\\\n",
    "    cvxpy.multiply(allowed_operational_hours,task_table) >= task_table\n",
    "\n",
    "    # we use the \"@\" operator for matrix-matrix and matrix-vector multiplication\n",
    "\n",
    "    max_consumption_contraint=\\\n",
    "    supporting_consumption_values @ task_table <= pv_production_value # we are thinking of deleting this when we evolve the project\n",
    "\n",
    "    # With this constraint we ensure that the duration of the activity ends before it is unwanted\n",
    "\n",
    "    #task_duration_rounded_up=np.ceil(task_duration.astype(int))\n",
    "    #task_duration_rounded_up=np.expand_dims(task_duration_rounded_up.values,axis=1)\n",
    "\n",
    "    task_duration_expanded = np.expand_dims(task_duration,axis=1) # we use this because we consider that the duration is given in hours(1,2,3...)\n",
    "    max_duration_constraint=\\\n",
    "    task_table @ np.ones((number_of_discrete_moments,1),dtype=int) <= task_duration_expanded # in our version of the problem this should == since all the duration should be completely respected\n",
    "\n",
    "    # We will also add a constraint for ensuring that our activities are continuous\n",
    "\n",
    "    no_breaks_constraint=\\\n",
    "     task_table[:,2:allowed_operational_hours.shape[1]]- \\\n",
    "     task_table[:,1:allowed_operational_hours.shape[1]-1]+ \\\n",
    "     task_table[:,0:allowed_operational_hours.shape[1]-2] <= 1\n",
    "\n",
    "    # Lastly, we are going to define a constraint that makes sures all of the jobs are programmed\n",
    "\n",
    "    all_works_placed_constraint=\\\n",
    "    task_table @ np.ones((number_of_discrete_moments,1),dtype=int) >= 1\n",
    "\n",
    "    # Now we are going to put all the constraints together\n",
    "\n",
    "    problem_constraints=\\\n",
    "    [user_time_limit_constraint, max_duration_constraint, max_consumption_contraint,# : we ignore this constraint because worst case we are going to buy energy from an energy provider\n",
    "    no_breaks_constraint,all_works_placed_constraint]\n",
    "\n",
    "    # here we are define the unused production from the pv\n",
    "\n",
    "    unused_panel_production=\\\n",
    "    cvxpy.sum(pv_production_value - cvxpy.sum(supporting_consumption_values @ task_table)) #supporting_importance_values \n",
    "    #cvxpy.sum((pv_production_value - ((supporting_consumption_values @ task_table))) - (supporting_importance_values @ task_table))\n",
    "\n",
    "    # we can finally formulate the problem\n",
    "\n",
    "    problem = cvxpy.Problem(cvxpy.Minimize(unused_panel_production), problem_constraints)\n",
    "\n",
    "    # now we will solve the problem\n",
    "\n",
    "    problem.solve(solver=cvxpy.GLPK_MI)\n",
    "\n",
    "    #if there is a solution\n",
    "    if ~np.isinf(problem.value):\n",
    "        #get the final solution\n",
    "        final_solution_1 = task_table.value\n",
    "        control_variable = 1\n",
    "\n",
    "    else:    \n",
    "        final_solution_1 = 0\n",
    "        control_variable = 0\n",
    "    \n",
    "    return final_solution_1,control_variable,appliances_names"
   ]
  },
  {
   "cell_type": "markdown",
   "metadata": {},
   "source": [
    "### Calling the function and printing the results of the scheduler"
   ]
  },
  {
   "cell_type": "code",
   "execution_count": 3,
   "metadata": {},
   "outputs": [
    {
     "name": "stdout",
     "output_type": "stream",
     "text": [
      "This is the scheduler's solution : \n",
      "Air Condition : [0. 0. 0. 0. 1. 1. 1. 1. 1. 0. 0. 0.]\n",
      "Air Purifier : [0. 0. 0. 0. 1. 1. 1. 1. 1. 1. 0. 0.]\n",
      "EV Car Charger : [0. 0. 0. 1. 1. 1. 1. 1. 0. 0. 0. 0.]\n",
      "WiFi Booster : [0. 0. 0. 1. 1. 1. 1. 1. 1. 1. 1. 1.]\n"
     ]
    }
   ],
   "source": [
    "control_variable = -1\n",
    "solution,control_variable,appliances_names = find_schedule()\n",
    "if control_variable == 1:\n",
    "    print(\"This is the scheduler's solution : \")\n",
    "    for i in range(appliances_names.size):\n",
    "        print(appliances_names[i], solution[i], sep=' : ')\n",
    "elif control_variable == 0:\n",
    "    print(\"The algorithm could not find a final solution\")\n",
    "else:\n",
    "    print(\"There was an error, please try again\")\n",
    "    "
   ]
  },
  {
   "cell_type": "code",
   "execution_count": null,
   "metadata": {},
   "outputs": [],
   "source": []
  }
 ],
 "metadata": {
  "kernelspec": {
   "display_name": "Python 3 (ipykernel)",
   "language": "python",
   "name": "python3"
  },
  "language_info": {
   "codemirror_mode": {
    "name": "ipython",
    "version": 3
   },
   "file_extension": ".py",
   "mimetype": "text/x-python",
   "name": "python",
   "nbconvert_exporter": "python",
   "pygments_lexer": "ipython3",
   "version": "3.10.6"
  },
  "vscode": {
   "interpreter": {
    "hash": "e0acaf148705ed9ed86cc5cad12259d7985e30670e5686e5f55604a9b3b84a55"
   }
  }
 },
 "nbformat": 4,
 "nbformat_minor": 2
}
